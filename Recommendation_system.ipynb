{
  "nbformat": 4,
  "nbformat_minor": 0,
  "metadata": {
    "colab": {
      "provenance": []
    },
    "kernelspec": {
      "name": "python3",
      "display_name": "Python 3"
    },
    "language_info": {
      "name": "python"
    }
  },
  "cells": [
    {
      "cell_type": "code",
      "source": [
        "import pandas as pd\n",
        "import numpy as np\n",
        "from sklearn.feature_extraction.text import TfidfVectorizer\n",
        "from sklearn.metrics.pairwise import linear_kernel\n",
        "data_cf = {\n",
        "    'User': ['Alice', 'Alice', 'Alice', 'Bob', 'Bob', 'Charlie', 'Charlie'],\n",
        "    'Item': ['Movie1', 'Movie2', 'Movie3', 'Movie2', 'Movie3', 'Movie1', 'Movie4'],\n",
        "    'Rating': [5, 3, 4, 4, 5, 5, 4]\n",
        "}\n",
        "df_cf = pd.DataFrame(data_cf)\n",
        "user_item_matrix = df_cf.pivot(index='User', columns='Item', values='Rating').fillna(0)\n",
        "user_similarity = user_item_matrix.dot(user_item_matrix.T)\n",
        "norms = np.array([np.sqrt(np.diagonal(user_similarity))])\n",
        "user_similarity = user_similarity / norms.T / norms\n",
        "def get_recommendations_cf(user, user_item_matrix, user_similarity):\n",
        "    if user not in user_item_matrix.index:\n",
        "        return f\"User '{user}' not found in the dataset.\"\n",
        "    similar_users = user_similarity.loc[user].sort_values(ascending=False).index[1:]\n",
        "    recommendations = pd.Series(dtype=float)\n",
        "    for similar_user in similar_users:\n",
        "        recommendations = pd.concat([recommendations, user_item_matrix.loc[similar_user][user_item_matrix.loc[similar_user] > 0]])\n",
        "    recommendations = recommendations.groupby(recommendations.index).mean().sort_values(ascending=False)\n",
        "    return recommendations.head(3)\n",
        "books = pd.DataFrame({\n",
        "    'Title': ['Book1', 'Book2', 'Book3', 'Book4'],\n",
        "    'Description': [\n",
        "        'A story about magic and adventure',\n",
        "        'A deep dive into technology and innovation',\n",
        "        'An exploration of human psychology',\n",
        "        'A tale of love and relationships'\n",
        "    ]\n",
        "})\n",
        "tfidf = TfidfVectorizer(stop_words='english')\n",
        "tfidf_matrix = tfidf.fit_transform(books['Description'])\n",
        "cosine_sim = linear_kernel(tfidf_matrix, tfidf_matrix)\n",
        "def get_content_based_recommendations(title, books, cosine_sim):\n",
        "    if title not in books['Title'].values:\n",
        "        return f\"Book '{title}' not found in the dataset.\"\n",
        "    idx = books.index[books['Title'] == title].tolist()[0]\n",
        "    sim_scores = list(enumerate(cosine_sim[idx]))\n",
        "    sim_scores = sorted(sim_scores, key=lambda x: x[1], reverse=True)\n",
        "    sim_scores = sim_scores[1:4]\n",
        "    book_indices = [i[0] for i in sim_scores]\n",
        "    return books['Title'].iloc[book_indices]\n",
        "if __name__ == \"__main__\":\n",
        "    user = 'Alice'\n",
        "    print(f\"Collaborative Filtering Recommendations for {user}:\")\n",
        "    print(get_recommendations_cf(user, user_item_matrix, user_similarity))\n",
        "    book_title = 'Book1'\n",
        "    print(f\"\\nContent-Based Filtering Recommendations for '{book_title}':\")\n",
        "    print(get_content_based_recommendations(book_title, books, cosine_sim))"
      ],
      "metadata": {
        "colab": {
          "base_uri": "https://localhost:8080/"
        },
        "id": "PKlf4SKyi90R",
        "outputId": "0d8d937c-1469-407f-d93e-350f3704439b"
      },
      "execution_count": 4,
      "outputs": [
        {
          "output_type": "stream",
          "name": "stdout",
          "text": [
            "Collaborative Filtering Recommendations for Alice:\n",
            "Movie1    5.0\n",
            "Movie3    5.0\n",
            "Movie2    4.0\n",
            "dtype: float64\n",
            "\n",
            "Content-Based Filtering Recommendations for 'Book1':\n",
            "1    Book2\n",
            "2    Book3\n",
            "3    Book4\n",
            "Name: Title, dtype: object\n"
          ]
        }
      ]
    }
  ]
}